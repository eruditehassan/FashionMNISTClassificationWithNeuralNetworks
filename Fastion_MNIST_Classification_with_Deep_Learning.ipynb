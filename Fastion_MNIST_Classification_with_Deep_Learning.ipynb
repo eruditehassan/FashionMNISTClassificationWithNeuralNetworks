{
 "cells": [
  {
   "cell_type": "markdown",
   "metadata": {},
   "source": [
    "# Fasion MNIST Dataset Classification with Neural Networks"
   ]
  },
  {
   "cell_type": "markdown",
   "metadata": {},
   "source": [
    "## Context\n",
    "Fashion-MNIST is a dataset of Zalando's article images—consisting of a training set of 60,000 examples and a test set of 10,000 examples. Each example is a 28x28 grayscale image, associated with a label from 10 classes. Zalando intends Fashion-MNIST to serve as a direct drop-in replacement for the original MNIST dataset for benchmarking machine learning algorithms. It shares the same image size and structure of training and testing splits.\n",
    "\n",
    "The original MNIST dataset contains a lot of handwritten digits. Members of the AI/ML/Data Science community love this dataset and use it as a benchmark to validate their algorithms. In fact, MNIST is often the first dataset researchers try. \"If it doesn't work on MNIST, it won't work at all\", they said. \"Well, if it does work on MNIST, it may still fail on others.\"\n",
    "\n",
    "Zalando seeks to replace the original MNIST dataset\n",
    "\n",
    "## Content\n",
    "Each image is 28 pixels in height and 28 pixels in width, for a total of 784 pixels in total. Each pixel has a single pixel-value associated with it, indicating the lightness or darkness of that pixel, with higher numbers meaning darker. This pixel-value is an integer between 0 and 255. The training and test data sets have 785 columns. The first column consists of the class labels (see above), and represents the article of clothing. The rest of the columns contain the pixel-values of the associated image.\n",
    "\n",
    "- To locate a pixel on the image, suppose that we have decomposed x as x = i * 28 + j, where i and j are integers between 0 and 27. The pixel is located on row i and column j of a 28 x 28 matrix.\n",
    "- For example, pixel31 indicates the pixel that is in the fourth column from the left, and the second row from the top, as in the ascii-diagram below.\n",
    "\n",
    "### Labels\n",
    "\n",
    "Each training and test example is assigned to one of the following labels:\n",
    "\n",
    "0. T-shirt/top\n",
    "1. Trouser\n",
    "2. Pullover\n",
    "3. Dress\n",
    "4. Coat\n",
    "5. Sandal\n",
    "6. Shirt\n",
    "7. Sneaker\n",
    "8. Bag\n",
    "9. Ankle boot\n",
    "\n",
    "\n",
    "### TL;DR\n",
    "\n",
    "- Each row is a separate image\n",
    "- Column 1 is the class label.\n",
    "- Remaining columns are pixel numbers (784 total).\n",
    "- Each value is the darkness of the pixel (1 to 255)\n",
    "\n",
    "\n",
    "**Source of Description and Dataset: [Kaggle](https://www.kaggle.com/zalando-research/fashionmnist)**"
   ]
  },
  {
   "cell_type": "markdown",
   "metadata": {},
   "source": [
    "## Importing Libraries"
   ]
  },
  {
   "cell_type": "code",
   "execution_count": 2,
   "metadata": {},
   "outputs": [],
   "source": [
    "import pandas as pd\n",
    "from matplotlib import pyplot as plt\n",
    "import numpy as np\n",
    "import torchvision\n",
    "import torch\n",
    "import torchvision.transforms as transforms\n",
    "import torch.nn as nn\n",
    "import torch.nn.functional as F\n",
    "from torch.utils.data import DataLoader, TensorDataset\n",
    "from sklearn.metrics import confusion_matrix\n",
    "from torch.autograd import Variable\n",
    "#from torchviz import make_dot"
   ]
  },
  {
   "cell_type": "markdown",
   "metadata": {},
   "source": [
    "## Loading and exploring the Dataset"
   ]
  },
  {
   "cell_type": "code",
   "execution_count": 3,
   "metadata": {},
   "outputs": [],
   "source": [
    "df_train = pd.read_csv(\"fashion-mnist_train.csv\")"
   ]
  },
  {
   "cell_type": "code",
   "execution_count": 4,
   "metadata": {},
   "outputs": [],
   "source": [
    "X_train = df_train.iloc[:,1:]\n",
    "y_train = df_train['label']"
   ]
  },
  {
   "cell_type": "code",
   "execution_count": 5,
   "metadata": {},
   "outputs": [
    {
     "data": {
      "text/plain": [
       "(60000, 785)"
      ]
     },
     "execution_count": 5,
     "metadata": {},
     "output_type": "execute_result"
    }
   ],
   "source": [
    "df_train.shape"
   ]
  },
  {
   "cell_type": "code",
   "execution_count": 6,
   "metadata": {},
   "outputs": [
    {
     "data": {
      "text/html": [
       "<div>\n",
       "<style scoped>\n",
       "    .dataframe tbody tr th:only-of-type {\n",
       "        vertical-align: middle;\n",
       "    }\n",
       "\n",
       "    .dataframe tbody tr th {\n",
       "        vertical-align: top;\n",
       "    }\n",
       "\n",
       "    .dataframe thead th {\n",
       "        text-align: right;\n",
       "    }\n",
       "</style>\n",
       "<table border=\"1\" class=\"dataframe\">\n",
       "  <thead>\n",
       "    <tr style=\"text-align: right;\">\n",
       "      <th></th>\n",
       "      <th>label</th>\n",
       "      <th>pixel1</th>\n",
       "      <th>pixel2</th>\n",
       "      <th>pixel3</th>\n",
       "      <th>pixel4</th>\n",
       "      <th>pixel5</th>\n",
       "      <th>pixel6</th>\n",
       "      <th>pixel7</th>\n",
       "      <th>pixel8</th>\n",
       "      <th>pixel9</th>\n",
       "      <th>...</th>\n",
       "      <th>pixel775</th>\n",
       "      <th>pixel776</th>\n",
       "      <th>pixel777</th>\n",
       "      <th>pixel778</th>\n",
       "      <th>pixel779</th>\n",
       "      <th>pixel780</th>\n",
       "      <th>pixel781</th>\n",
       "      <th>pixel782</th>\n",
       "      <th>pixel783</th>\n",
       "      <th>pixel784</th>\n",
       "    </tr>\n",
       "  </thead>\n",
       "  <tbody>\n",
       "    <tr>\n",
       "      <th>0</th>\n",
       "      <td>2</td>\n",
       "      <td>0</td>\n",
       "      <td>0</td>\n",
       "      <td>0</td>\n",
       "      <td>0</td>\n",
       "      <td>0</td>\n",
       "      <td>0</td>\n",
       "      <td>0</td>\n",
       "      <td>0</td>\n",
       "      <td>0</td>\n",
       "      <td>...</td>\n",
       "      <td>0</td>\n",
       "      <td>0</td>\n",
       "      <td>0</td>\n",
       "      <td>0</td>\n",
       "      <td>0</td>\n",
       "      <td>0</td>\n",
       "      <td>0</td>\n",
       "      <td>0</td>\n",
       "      <td>0</td>\n",
       "      <td>0</td>\n",
       "    </tr>\n",
       "    <tr>\n",
       "      <th>1</th>\n",
       "      <td>9</td>\n",
       "      <td>0</td>\n",
       "      <td>0</td>\n",
       "      <td>0</td>\n",
       "      <td>0</td>\n",
       "      <td>0</td>\n",
       "      <td>0</td>\n",
       "      <td>0</td>\n",
       "      <td>0</td>\n",
       "      <td>0</td>\n",
       "      <td>...</td>\n",
       "      <td>0</td>\n",
       "      <td>0</td>\n",
       "      <td>0</td>\n",
       "      <td>0</td>\n",
       "      <td>0</td>\n",
       "      <td>0</td>\n",
       "      <td>0</td>\n",
       "      <td>0</td>\n",
       "      <td>0</td>\n",
       "      <td>0</td>\n",
       "    </tr>\n",
       "    <tr>\n",
       "      <th>2</th>\n",
       "      <td>6</td>\n",
       "      <td>0</td>\n",
       "      <td>0</td>\n",
       "      <td>0</td>\n",
       "      <td>0</td>\n",
       "      <td>0</td>\n",
       "      <td>0</td>\n",
       "      <td>0</td>\n",
       "      <td>5</td>\n",
       "      <td>0</td>\n",
       "      <td>...</td>\n",
       "      <td>0</td>\n",
       "      <td>0</td>\n",
       "      <td>0</td>\n",
       "      <td>30</td>\n",
       "      <td>43</td>\n",
       "      <td>0</td>\n",
       "      <td>0</td>\n",
       "      <td>0</td>\n",
       "      <td>0</td>\n",
       "      <td>0</td>\n",
       "    </tr>\n",
       "    <tr>\n",
       "      <th>3</th>\n",
       "      <td>0</td>\n",
       "      <td>0</td>\n",
       "      <td>0</td>\n",
       "      <td>0</td>\n",
       "      <td>1</td>\n",
       "      <td>2</td>\n",
       "      <td>0</td>\n",
       "      <td>0</td>\n",
       "      <td>0</td>\n",
       "      <td>0</td>\n",
       "      <td>...</td>\n",
       "      <td>3</td>\n",
       "      <td>0</td>\n",
       "      <td>0</td>\n",
       "      <td>0</td>\n",
       "      <td>0</td>\n",
       "      <td>1</td>\n",
       "      <td>0</td>\n",
       "      <td>0</td>\n",
       "      <td>0</td>\n",
       "      <td>0</td>\n",
       "    </tr>\n",
       "    <tr>\n",
       "      <th>4</th>\n",
       "      <td>3</td>\n",
       "      <td>0</td>\n",
       "      <td>0</td>\n",
       "      <td>0</td>\n",
       "      <td>0</td>\n",
       "      <td>0</td>\n",
       "      <td>0</td>\n",
       "      <td>0</td>\n",
       "      <td>0</td>\n",
       "      <td>0</td>\n",
       "      <td>...</td>\n",
       "      <td>0</td>\n",
       "      <td>0</td>\n",
       "      <td>0</td>\n",
       "      <td>0</td>\n",
       "      <td>0</td>\n",
       "      <td>0</td>\n",
       "      <td>0</td>\n",
       "      <td>0</td>\n",
       "      <td>0</td>\n",
       "      <td>0</td>\n",
       "    </tr>\n",
       "  </tbody>\n",
       "</table>\n",
       "<p>5 rows × 785 columns</p>\n",
       "</div>"
      ],
      "text/plain": [
       "   label  pixel1  pixel2  pixel3  pixel4  pixel5  pixel6  pixel7  pixel8  \\\n",
       "0      2       0       0       0       0       0       0       0       0   \n",
       "1      9       0       0       0       0       0       0       0       0   \n",
       "2      6       0       0       0       0       0       0       0       5   \n",
       "3      0       0       0       0       1       2       0       0       0   \n",
       "4      3       0       0       0       0       0       0       0       0   \n",
       "\n",
       "   pixel9  ...  pixel775  pixel776  pixel777  pixel778  pixel779  pixel780  \\\n",
       "0       0  ...         0         0         0         0         0         0   \n",
       "1       0  ...         0         0         0         0         0         0   \n",
       "2       0  ...         0         0         0        30        43         0   \n",
       "3       0  ...         3         0         0         0         0         1   \n",
       "4       0  ...         0         0         0         0         0         0   \n",
       "\n",
       "   pixel781  pixel782  pixel783  pixel784  \n",
       "0         0         0         0         0  \n",
       "1         0         0         0         0  \n",
       "2         0         0         0         0  \n",
       "3         0         0         0         0  \n",
       "4         0         0         0         0  \n",
       "\n",
       "[5 rows x 785 columns]"
      ]
     },
     "execution_count": 6,
     "metadata": {},
     "output_type": "execute_result"
    }
   ],
   "source": [
    "df_train.head()"
   ]
  },
  {
   "cell_type": "code",
   "execution_count": 7,
   "metadata": {},
   "outputs": [],
   "source": [
    "df_test =  pd.read_csv(\"fashion-mnist_test.csv\")"
   ]
  },
  {
   "cell_type": "code",
   "execution_count": 8,
   "metadata": {},
   "outputs": [],
   "source": [
    "X_test = df_test.iloc[:,1:]\n",
    "y_test = df_test['label']"
   ]
  },
  {
   "cell_type": "code",
   "execution_count": 9,
   "metadata": {},
   "outputs": [
    {
     "data": {
      "text/plain": [
       "(10000, 785)"
      ]
     },
     "execution_count": 9,
     "metadata": {},
     "output_type": "execute_result"
    }
   ],
   "source": [
    "df_test.shape"
   ]
  },
  {
   "cell_type": "code",
   "execution_count": 10,
   "metadata": {},
   "outputs": [
    {
     "data": {
      "text/html": [
       "<div>\n",
       "<style scoped>\n",
       "    .dataframe tbody tr th:only-of-type {\n",
       "        vertical-align: middle;\n",
       "    }\n",
       "\n",
       "    .dataframe tbody tr th {\n",
       "        vertical-align: top;\n",
       "    }\n",
       "\n",
       "    .dataframe thead th {\n",
       "        text-align: right;\n",
       "    }\n",
       "</style>\n",
       "<table border=\"1\" class=\"dataframe\">\n",
       "  <thead>\n",
       "    <tr style=\"text-align: right;\">\n",
       "      <th></th>\n",
       "      <th>label</th>\n",
       "      <th>pixel1</th>\n",
       "      <th>pixel2</th>\n",
       "      <th>pixel3</th>\n",
       "      <th>pixel4</th>\n",
       "      <th>pixel5</th>\n",
       "      <th>pixel6</th>\n",
       "      <th>pixel7</th>\n",
       "      <th>pixel8</th>\n",
       "      <th>pixel9</th>\n",
       "      <th>...</th>\n",
       "      <th>pixel775</th>\n",
       "      <th>pixel776</th>\n",
       "      <th>pixel777</th>\n",
       "      <th>pixel778</th>\n",
       "      <th>pixel779</th>\n",
       "      <th>pixel780</th>\n",
       "      <th>pixel781</th>\n",
       "      <th>pixel782</th>\n",
       "      <th>pixel783</th>\n",
       "      <th>pixel784</th>\n",
       "    </tr>\n",
       "  </thead>\n",
       "  <tbody>\n",
       "    <tr>\n",
       "      <th>0</th>\n",
       "      <td>0</td>\n",
       "      <td>0</td>\n",
       "      <td>0</td>\n",
       "      <td>0</td>\n",
       "      <td>0</td>\n",
       "      <td>0</td>\n",
       "      <td>0</td>\n",
       "      <td>0</td>\n",
       "      <td>9</td>\n",
       "      <td>8</td>\n",
       "      <td>...</td>\n",
       "      <td>103</td>\n",
       "      <td>87</td>\n",
       "      <td>56</td>\n",
       "      <td>0</td>\n",
       "      <td>0</td>\n",
       "      <td>0</td>\n",
       "      <td>0</td>\n",
       "      <td>0</td>\n",
       "      <td>0</td>\n",
       "      <td>0</td>\n",
       "    </tr>\n",
       "    <tr>\n",
       "      <th>1</th>\n",
       "      <td>1</td>\n",
       "      <td>0</td>\n",
       "      <td>0</td>\n",
       "      <td>0</td>\n",
       "      <td>0</td>\n",
       "      <td>0</td>\n",
       "      <td>0</td>\n",
       "      <td>0</td>\n",
       "      <td>0</td>\n",
       "      <td>0</td>\n",
       "      <td>...</td>\n",
       "      <td>34</td>\n",
       "      <td>0</td>\n",
       "      <td>0</td>\n",
       "      <td>0</td>\n",
       "      <td>0</td>\n",
       "      <td>0</td>\n",
       "      <td>0</td>\n",
       "      <td>0</td>\n",
       "      <td>0</td>\n",
       "      <td>0</td>\n",
       "    </tr>\n",
       "    <tr>\n",
       "      <th>2</th>\n",
       "      <td>2</td>\n",
       "      <td>0</td>\n",
       "      <td>0</td>\n",
       "      <td>0</td>\n",
       "      <td>0</td>\n",
       "      <td>0</td>\n",
       "      <td>0</td>\n",
       "      <td>14</td>\n",
       "      <td>53</td>\n",
       "      <td>99</td>\n",
       "      <td>...</td>\n",
       "      <td>0</td>\n",
       "      <td>0</td>\n",
       "      <td>0</td>\n",
       "      <td>0</td>\n",
       "      <td>63</td>\n",
       "      <td>53</td>\n",
       "      <td>31</td>\n",
       "      <td>0</td>\n",
       "      <td>0</td>\n",
       "      <td>0</td>\n",
       "    </tr>\n",
       "    <tr>\n",
       "      <th>3</th>\n",
       "      <td>2</td>\n",
       "      <td>0</td>\n",
       "      <td>0</td>\n",
       "      <td>0</td>\n",
       "      <td>0</td>\n",
       "      <td>0</td>\n",
       "      <td>0</td>\n",
       "      <td>0</td>\n",
       "      <td>0</td>\n",
       "      <td>0</td>\n",
       "      <td>...</td>\n",
       "      <td>137</td>\n",
       "      <td>126</td>\n",
       "      <td>140</td>\n",
       "      <td>0</td>\n",
       "      <td>133</td>\n",
       "      <td>224</td>\n",
       "      <td>222</td>\n",
       "      <td>56</td>\n",
       "      <td>0</td>\n",
       "      <td>0</td>\n",
       "    </tr>\n",
       "    <tr>\n",
       "      <th>4</th>\n",
       "      <td>3</td>\n",
       "      <td>0</td>\n",
       "      <td>0</td>\n",
       "      <td>0</td>\n",
       "      <td>0</td>\n",
       "      <td>0</td>\n",
       "      <td>0</td>\n",
       "      <td>0</td>\n",
       "      <td>0</td>\n",
       "      <td>0</td>\n",
       "      <td>...</td>\n",
       "      <td>0</td>\n",
       "      <td>0</td>\n",
       "      <td>0</td>\n",
       "      <td>0</td>\n",
       "      <td>0</td>\n",
       "      <td>0</td>\n",
       "      <td>0</td>\n",
       "      <td>0</td>\n",
       "      <td>0</td>\n",
       "      <td>0</td>\n",
       "    </tr>\n",
       "  </tbody>\n",
       "</table>\n",
       "<p>5 rows × 785 columns</p>\n",
       "</div>"
      ],
      "text/plain": [
       "   label  pixel1  pixel2  pixel3  pixel4  pixel5  pixel6  pixel7  pixel8  \\\n",
       "0      0       0       0       0       0       0       0       0       9   \n",
       "1      1       0       0       0       0       0       0       0       0   \n",
       "2      2       0       0       0       0       0       0      14      53   \n",
       "3      2       0       0       0       0       0       0       0       0   \n",
       "4      3       0       0       0       0       0       0       0       0   \n",
       "\n",
       "   pixel9  ...  pixel775  pixel776  pixel777  pixel778  pixel779  pixel780  \\\n",
       "0       8  ...       103        87        56         0         0         0   \n",
       "1       0  ...        34         0         0         0         0         0   \n",
       "2      99  ...         0         0         0         0        63        53   \n",
       "3       0  ...       137       126       140         0       133       224   \n",
       "4       0  ...         0         0         0         0         0         0   \n",
       "\n",
       "   pixel781  pixel782  pixel783  pixel784  \n",
       "0         0         0         0         0  \n",
       "1         0         0         0         0  \n",
       "2        31         0         0         0  \n",
       "3       222        56         0         0  \n",
       "4         0         0         0         0  \n",
       "\n",
       "[5 rows x 785 columns]"
      ]
     },
     "execution_count": 10,
     "metadata": {},
     "output_type": "execute_result"
    }
   ],
   "source": [
    "df_test.head()"
   ]
  },
  {
   "cell_type": "code",
   "execution_count": 11,
   "metadata": {},
   "outputs": [
    {
     "name": "stdout",
     "output_type": "stream",
     "text": [
      "X_train shape :  (60000, 784)\n",
      "X_test shape :  (10000, 784)\n",
      "y_train shape :  (60000,)\n",
      "y_test shape :  (10000,)\n"
     ]
    }
   ],
   "source": [
    "print('X_train shape : ', X_train.shape)\n",
    "print('X_test shape : ', X_test.shape)\n",
    "print('y_train shape : ', y_train.shape)\n",
    "print('y_test shape : ', y_test.shape)"
   ]
  },
  {
   "cell_type": "markdown",
   "metadata": {},
   "source": [
    "## Normalizing and Reshaping"
   ]
  },
  {
   "cell_type": "code",
   "execution_count": 12,
   "metadata": {},
   "outputs": [],
   "source": [
    "# Noramlizing the dataset\n",
    "X_train = X_train / 255\n",
    "X_test = X_test / 255"
   ]
  },
  {
   "cell_type": "code",
   "execution_count": 13,
   "metadata": {},
   "outputs": [],
   "source": [
    "# Reshaping\n",
    "X_train = X_train.values.reshape(-1,28,28,1)\n",
    "X_test = X_test.values.reshape(-1,28,28,1)"
   ]
  },
  {
   "cell_type": "markdown",
   "metadata": {},
   "source": [
    "## Looking at some images in the dataset"
   ]
  },
  {
   "cell_type": "code",
   "execution_count": 14,
   "metadata": {},
   "outputs": [
    {
     "data": {
      "text/plain": [
       "0        2\n",
       "1        9\n",
       "2        6\n",
       "3        0\n",
       "4        3\n",
       "        ..\n",
       "59995    9\n",
       "59996    1\n",
       "59997    8\n",
       "59998    8\n",
       "59999    7\n",
       "Name: label, Length: 60000, dtype: int64"
      ]
     },
     "execution_count": 14,
     "metadata": {},
     "output_type": "execute_result"
    }
   ],
   "source": [
    "y_train"
   ]
  },
  {
   "cell_type": "code",
   "execution_count": 15,
   "metadata": {},
   "outputs": [
    {
     "data": {
      "image/png": "[encoded data removed]",
      "text/plain": [
       "<Figure size 792x864 with 8 Axes>"
      ]
     },
     "metadata": {
      "needs_background": "light"
     },
     "output_type": "display_data"
    }
   ],
   "source": [
    "fig = plt.figure(figsize = (11,12))\n",
    "\n",
    "for i in range(8):\n",
    "    plt.subplot(4,4,1 + i)\n",
    "    plt.imshow(X_train[i,:,:,0], cmap = plt.get_cmap('gray'))\n",
    "    plt.title(y_train[i], fontname = 'Times New Roman', fontweight = 'bold')"
   ]
  },
  {
   "cell_type": "markdown",
   "metadata": {},
   "source": [
    "## Building the model"
   ]
  },
  {
   "cell_type": "code",
   "execution_count": 16,
   "metadata": {},
   "outputs": [],
   "source": [
    "X_train = torch.from_numpy(X_train.astype('float32'))\n",
    "y_train = torch.from_numpy(y_train.to_numpy())\n"
   ]
  },
  {
   "cell_type": "code",
   "execution_count": 17,
   "metadata": {},
   "outputs": [],
   "source": [
    "X_test = torch.from_numpy(X_test.astype('float32'))\n",
    "y_test = torch.from_numpy(y_test.to_numpy())"
   ]
  },
  {
   "cell_type": "code",
   "execution_count": 18,
   "metadata": {},
   "outputs": [],
   "source": [
    "dataset_train = TensorDataset(X_train, y_train)\n",
    "dataset_test = TensorDataset(X_test, y_test)"
   ]
  },
  {
   "cell_type": "code",
   "execution_count": 19,
   "metadata": {},
   "outputs": [],
   "source": [
    "train_loader = DataLoader(dataset_train, batch_size=10)\n",
    "test_loader = DataLoader(dataset_test, batch_size=10)\n",
    "\n",
    "loaders = {'train' : train_loader, \n",
    "            'test' : test_loader}"
   ]
  },
  {
   "cell_type": "code",
   "execution_count": 20,
   "metadata": {},
   "outputs": [],
   "source": [
    "class FashionMNISTModel(nn.Module):\n",
    "    def __init__(self):\n",
    "        super(FashionMNISTModel, self).__init__()\n",
    "                \n",
    "        self.fc1 = nn.Linear(28*28*1, 512)\n",
    "        self.fc2 = nn.Linear(512, 484)\n",
    "        self.fc3 = nn.Linear(484, 256)\n",
    "        #self.pool = nn.MaxPool2d(2, 2)   \n",
    "        self.fc4 = nn.Linear(256, 64)\n",
    "        self.fc5 = nn.Linear(64, 10) \n",
    "        self.dropout = nn.Dropout(0.25) \n",
    "        self.batch_norm = nn.BatchNorm1d(64)\n",
    "    \n",
    "    def forward(self, x):\n",
    "        \n",
    "        x = self.fc1(x)\n",
    "        x = F.relu(x)\n",
    "        #x = self.pool(x)\n",
    "        \n",
    "        x = self.fc2(x)\n",
    "        x = F.relu(x)\n",
    "        #x = self.pool(x)\n",
    "        \n",
    "        x = self.fc3(x)\n",
    "        x = F.relu(x)\n",
    "        #x = self.pool(x)               \n",
    "                              \n",
    "        x = self.fc4(x)\n",
    "        x = self.batch_norm(x)\n",
    "        x = F.relu(x)\n",
    "       \n",
    "        x = self.dropout(x)   \n",
    "        x = self.fc5(x)\n",
    "        x = F.relu(x)\n",
    "               \n",
    "        return x"
   ]
  },
  {
   "cell_type": "markdown",
   "metadata": {},
   "source": [
    "### Model Architecture"
   ]
  },
  {
   "cell_type": "code",
   "execution_count": null,
   "metadata": {},
   "outputs": [],
   "source": [
    "model"
   ]
  },
  {
   "cell_type": "code",
   "execution_count": null,
   "metadata": {},
   "outputs": [],
   "source": [
    "from torchsummary import summary\n",
    "summary(model,(10,784))"
   ]
  },
  {
   "cell_type": "markdown",
   "metadata": {},
   "source": [
    "### Training the model"
   ]
  },
  {
   "cell_type": "code",
   "execution_count": 21,
   "metadata": {},
   "outputs": [],
   "source": [
    "device = torch.device(\"cuda:0\" if torch.cuda.is_available() else \"cpu\")\n",
    "\n",
    "model = FashionMNISTModel()\n",
    "model.to(device)\n",
    "use_cuda = torch.cuda.is_available()"
   ]
  },
  {
   "cell_type": "code",
   "execution_count": 29,
   "metadata": {},
   "outputs": [],
   "source": [
    "#criterion = nn.CrossEntropyLoss()\n",
    "criterion = nn.NLLLoss()\n",
    "learning_rate = 0.001\n",
    "optimizer = torch.optim.Adam(model.parameters(), lr=learning_rate)"
   ]
  },
  {
   "cell_type": "code",
   "execution_count": 30,
   "metadata": {},
   "outputs": [
    {
     "data": {
      "text/plain": [
       "torch.Size([10, 28, 28, 1])"
      ]
     },
     "execution_count": 30,
     "metadata": {},
     "output_type": "execute_result"
    }
   ],
   "source": [
    "a = next(iter(train_loader))\n",
    "a[0].size()"
   ]
  },
  {
   "cell_type": "code",
   "execution_count": 31,
   "metadata": {},
   "outputs": [],
   "source": [
    "def train_model(n_epochs, loader, model, optimizer, criterion, use_cuda, save_path):\n",
    "    loss_minimum_valid = np.Inf\n",
    "    J_history = {'train':[], 'valid': []}\n",
    "    J_history_min = []\n",
    "    \n",
    "    for epoch in range(n_epochs):\n",
    "        train_loss = 0\n",
    "        valid_loss = 0\n",
    "        \n",
    "        # Training the model\n",
    "        model.train()\n",
    "        for batch_idx, (image, label) in enumerate(loader['train']):\n",
    "            if use_cuda:\n",
    "                image, label = image.cuda(), label.cuda()\n",
    "            # preprocessing\n",
    "            label = label.type(torch.LongTensor)\n",
    "            image = image.view(image.size(0), -1)\n",
    "            labels = Variable(label)\n",
    "            optimizer.zero_grad()\n",
    "            output = model(image)\n",
    "            loss = criterion(output, label)\n",
    "            loss.backward()\n",
    "            optimizer.step()\n",
    "            train_loss = train_loss + ((1 / (batch_idx + 1)) * (loss.data - train_loss))\n",
    "        J_history['train'].append(train_loss)\n",
    "        # Validating the model\n",
    "        model.eval()\n",
    "        for batch_idx, (image, level) in enumerate(loader['test']):\n",
    "            if use_cuda:\n",
    "                image, label = image.cuda(), label.cuda()\n",
    "            # preprocessing\n",
    "            #label = label.type(torch.LongTensor)\n",
    "            #image = image.view(image.shape[0], -1)\n",
    "            image = image.view(image.size(0), -1)\n",
    "            labels = Variable(label)\n",
    "            output = model(image)\n",
    "            loss = criterion(output, label)\n",
    "            valid_loss = valid_loss + ((1 / (batch_idx + 1)) * (loss.data - valid_loss))\n",
    "        J_history['valid'].append(valid_loss)\n",
    "        \n",
    "        print('Epoch: {} \\tTraining Loss: {:.6f} \\tValidation Loss: {:.6f}'.format(\n",
    "            epoch, \n",
    "            train_loss,\n",
    "            valid_loss\n",
    "            ))\n",
    "        \n",
    "        if valid_loss < loss_minimum_valid:\n",
    "            print(\"Saving model. Validation loss has decreased to {:.6f}\".format(valid_loss))\n",
    "            torch.save(model.state_dict(), save_path)\n",
    "            J_history_min.append(loss_minimum_valid)\n",
    "            loss_minimum_valid = valid_loss\n",
    "    return model, J_history, J_history_min"
   ]
  },
  {
   "cell_type": "code",
   "execution_count": 62,
   "metadata": {},
   "outputs": [
    {
     "name": "stdout",
     "output_type": "stream",
     "text": [
      "Epoch: 0 \tTraining Loss: -1696482.875000 \tValidation Loss: -1366327.125000\n",
      "Saving model. Validation loss has decreased to -1366327.125000\n",
      "Epoch: 1 \tTraining Loss: -1804973.625000 \tValidation Loss: -1452365.625000\n",
      "Saving model. Validation loss has decreased to -1452365.625000\n",
      "Epoch: 2 \tTraining Loss: -1919360.125000 \tValidation Loss: -1541479.125000\n",
      "Saving model. Validation loss has decreased to -1541479.125000\n",
      "Epoch: 3 \tTraining Loss: -2035311.500000 \tValidation Loss: -1633495.625000\n",
      "Saving model. Validation loss has decreased to -1633495.625000\n",
      "Epoch: 4 \tTraining Loss: -2155689.750000 \tValidation Loss: -1724550.375000\n",
      "Saving model. Validation loss has decreased to -1724550.375000\n",
      "Epoch: 5 \tTraining Loss: -2279107.750000 \tValidation Loss: -1830830.750000\n",
      "Saving model. Validation loss has decreased to -1830830.750000\n",
      "Epoch: 6 \tTraining Loss: -2405857.000000 \tValidation Loss: -1924567.125000\n",
      "Saving model. Validation loss has decreased to -1924567.125000\n",
      "Epoch: 7 \tTraining Loss: -2537483.500000 \tValidation Loss: -2025665.375000\n",
      "Saving model. Validation loss has decreased to -2025665.375000\n",
      "Epoch: 8 \tTraining Loss: -2672545.500000 \tValidation Loss: -2134658.500000\n",
      "Saving model. Validation loss has decreased to -2134658.500000\n",
      "Epoch: 9 \tTraining Loss: -2807430.500000 \tValidation Loss: -2243639.500000\n",
      "Saving model. Validation loss has decreased to -2243639.500000\n",
      "Epoch: 10 \tTraining Loss: -2948934.250000 \tValidation Loss: -2349850.250000\n",
      "Saving model. Validation loss has decreased to -2349850.250000\n",
      "Epoch: 11 \tTraining Loss: -3093485.000000 \tValidation Loss: -2468915.750000\n",
      "Saving model. Validation loss has decreased to -2468915.750000\n",
      "Epoch: 12 \tTraining Loss: -3244331.000000 \tValidation Loss: -2584739.250000\n",
      "Saving model. Validation loss has decreased to -2584739.250000\n",
      "Epoch: 13 \tTraining Loss: -3392883.500000 \tValidation Loss: -2699310.500000\n",
      "Saving model. Validation loss has decreased to -2699310.500000\n",
      "Epoch: 14 \tTraining Loss: -3550143.250000 \tValidation Loss: -2826455.500000\n",
      "Saving model. Validation loss has decreased to -2826455.500000\n",
      "Epoch: 15 \tTraining Loss: -3706500.250000 \tValidation Loss: -2942646.750000\n",
      "Saving model. Validation loss has decreased to -2942646.750000\n",
      "Epoch: 16 \tTraining Loss: -3867160.000000 \tValidation Loss: -3081129.750000\n",
      "Saving model. Validation loss has decreased to -3081129.750000\n",
      "Epoch: 17 \tTraining Loss: -4032441.500000 \tValidation Loss: -3202478.250000\n",
      "Saving model. Validation loss has decreased to -3202478.250000\n",
      "Epoch: 18 \tTraining Loss: -4201748.000000 \tValidation Loss: -3334887.000000\n",
      "Saving model. Validation loss has decreased to -3334887.000000\n",
      "Epoch: 19 \tTraining Loss: -4371823.000000 \tValidation Loss: -3475931.250000\n",
      "Saving model. Validation loss has decreased to -3475931.250000\n",
      "Epoch: 20 \tTraining Loss: -4547192.500000 \tValidation Loss: -3608559.750000\n",
      "Saving model. Validation loss has decreased to -3608559.750000\n",
      "Epoch: 21 \tTraining Loss: -4727175.500000 \tValidation Loss: -3749659.250000\n",
      "Saving model. Validation loss has decreased to -3749659.250000\n",
      "Epoch: 22 \tTraining Loss: -4906999.500000 \tValidation Loss: -3893891.750000\n",
      "Saving model. Validation loss has decreased to -3893891.750000\n",
      "Epoch: 23 \tTraining Loss: -5095654.500000 \tValidation Loss: -4038250.000000\n",
      "Saving model. Validation loss has decreased to -4038250.000000\n",
      "Epoch: 24 \tTraining Loss: -5282592.500000 \tValidation Loss: -4190429.750000\n",
      "Saving model. Validation loss has decreased to -4190429.750000\n",
      "Epoch: 25 \tTraining Loss: -5478907.500000 \tValidation Loss: -4330531.000000\n",
      "Saving model. Validation loss has decreased to -4330531.000000\n",
      "Epoch: 26 \tTraining Loss: -5670367.000000 \tValidation Loss: -4496558.000000\n",
      "Saving model. Validation loss has decreased to -4496558.000000\n",
      "Epoch: 27 \tTraining Loss: -5871562.500000 \tValidation Loss: -4636171.500000\n",
      "Saving model. Validation loss has decreased to -4636171.500000\n",
      "Epoch: 28 \tTraining Loss: -6073711.000000 \tValidation Loss: -4814786.500000\n",
      "Saving model. Validation loss has decreased to -4814786.500000\n",
      "Epoch: 29 \tTraining Loss: -6282638.500000 \tValidation Loss: -4965397.500000\n",
      "Saving model. Validation loss has decreased to -4965397.500000\n",
      "Epoch: 30 \tTraining Loss: -6492845.000000 \tValidation Loss: -5125357.500000\n",
      "Saving model. Validation loss has decreased to -5125357.500000\n",
      "Epoch: 31 \tTraining Loss: -6706440.500000 \tValidation Loss: -5300195.000000\n",
      "Saving model. Validation loss has decreased to -5300195.000000\n",
      "Epoch: 32 \tTraining Loss: -6918760.000000 \tValidation Loss: -5473730.500000\n",
      "Saving model. Validation loss has decreased to -5473730.500000\n",
      "Epoch: 33 \tTraining Loss: -7139691.000000 \tValidation Loss: -5653142.000000\n",
      "Saving model. Validation loss has decreased to -5653142.000000\n",
      "Epoch: 34 \tTraining Loss: -7366202.500000 \tValidation Loss: -5810579.500000\n",
      "Saving model. Validation loss has decreased to -5810579.500000\n",
      "Epoch: 35 \tTraining Loss: -7591028.500000 \tValidation Loss: -5989396.000000\n",
      "Saving model. Validation loss has decreased to -5989396.000000\n",
      "Epoch: 36 \tTraining Loss: -7820700.000000 \tValidation Loss: -6172198.000000\n",
      "Saving model. Validation loss has decreased to -6172198.000000\n",
      "Epoch: 37 \tTraining Loss: -8051992.500000 \tValidation Loss: -6355421.500000\n",
      "Saving model. Validation loss has decreased to -6355421.500000\n",
      "Epoch: 38 \tTraining Loss: -8297607.500000 \tValidation Loss: -6532047.500000\n",
      "Saving model. Validation loss has decreased to -6532047.500000\n",
      "Epoch: 39 \tTraining Loss: -8535185.000000 \tValidation Loss: -6737047.000000\n",
      "Saving model. Validation loss has decreased to -6737047.000000\n",
      "Epoch: 40 \tTraining Loss: -8782734.000000 \tValidation Loss: -6934581.000000\n",
      "Saving model. Validation loss has decreased to -6934581.000000\n",
      "Epoch: 41 \tTraining Loss: -9027205.000000 \tValidation Loss: -7100162.500000\n",
      "Saving model. Validation loss has decreased to -7100162.500000\n",
      "Epoch: 42 \tTraining Loss: -9278176.000000 \tValidation Loss: -7299527.500000\n",
      "Saving model. Validation loss has decreased to -7299527.500000\n",
      "Epoch: 43 \tTraining Loss: -9535482.000000 \tValidation Loss: -7496597.000000\n",
      "Saving model. Validation loss has decreased to -7496597.000000\n",
      "Epoch: 44 \tTraining Loss: -9790549.000000 \tValidation Loss: -7699526.000000\n",
      "Saving model. Validation loss has decreased to -7699526.000000\n",
      "Epoch: 45 \tTraining Loss: -10047910.000000 \tValidation Loss: -7903945.500000\n",
      "Saving model. Validation loss has decreased to -7903945.500000\n",
      "Epoch: 46 \tTraining Loss: -10319486.000000 \tValidation Loss: -8122021.000000\n",
      "Saving model. Validation loss has decreased to -8122021.000000\n",
      "Epoch: 47 \tTraining Loss: -10590182.000000 \tValidation Loss: -8339429.500000\n",
      "Saving model. Validation loss has decreased to -8339429.500000\n",
      "Epoch: 48 \tTraining Loss: -10849811.000000 \tValidation Loss: -8547806.000000\n",
      "Saving model. Validation loss has decreased to -8547806.000000\n",
      "Epoch: 49 \tTraining Loss: -11125862.000000 \tValidation Loss: -8727514.000000\n",
      "Saving model. Validation loss has decreased to -8727514.000000\n"
     ]
    }
   ],
   "source": [
    "model, J_history, J_history_min = train_model(50, loaders, model, optimizer, \n",
    "                      criterion, use_cuda, 'model.pt')"
   ]
  },
  {
   "cell_type": "code",
   "execution_count": 63,
   "metadata": {},
   "outputs": [
    {
     "data": {
      "text/plain": [
       "<All keys matched successfully>"
      ]
     },
     "execution_count": 63,
     "metadata": {},
     "output_type": "execute_result"
    }
   ],
   "source": [
    "model.load_state_dict(torch.load('model.pt'))"
   ]
  },
  {
   "cell_type": "code",
   "execution_count": 64,
   "metadata": {},
   "outputs": [
    {
     "data": {
      "image/png": "[encoded data removed]",
      "text/plain": [
       "<Figure size 1280x800 with 1 Axes>"
      ]
     },
     "metadata": {
      "needs_background": "light"
     },
     "output_type": "display_data"
    }
   ],
   "source": [
    "# plot the results\n",
    "plt.figure(figsize=(16,10), dpi= 80)\n",
    "x_axis = [int(x) for x in range(len(J_history['train']))]\n",
    "plt.plot(x_axis, J_history['train'], label=\"Train Error\")\n",
    "plt.plot(x_axis, J_history['valid'], label=\"Test Error\")\n",
    "plt.title('Overall plot of gradient descent')\n",
    "plt.xlabel('No of Epochs')\n",
    "plt.legend()\n",
    "plt.ylabel('J')\n",
    "plt.show()"
   ]
  },
  {
   "cell_type": "markdown",
   "metadata": {},
   "source": [
    "### Testing the model"
   ]
  },
  {
   "cell_type": "code",
   "execution_count": 65,
   "metadata": {},
   "outputs": [],
   "source": [
    "def test_model(loader, model, criterion, use_cuda, dataset_type):\n",
    "    test_loss = 0.\n",
    "    correct = 0.\n",
    "    total = 0.\n",
    "    prediction_array = []\n",
    "    label_array = []\n",
    "    model.eval()\n",
    "    for batch_idx, (image, label) in enumerate(loader[dataset_type]):\n",
    "        if use_cuda:\n",
    "            image, label = image.cuda(), label.cuda()\n",
    "#         label = label.type(torch.LongTensor)\n",
    "        image = image.view(image.size(0), -1)\n",
    "        labels = Variable(label)\n",
    "        output = model(image)\n",
    "        loss = criterion(output, label)\n",
    "        test_loss = test_loss + ((1 / (batch_idx + 1)) * (loss.data - test_loss))\n",
    "        pred = output.data.max(1, keepdim=True)[1]\n",
    "        correct += np.sum(np.squeeze(pred.eq(label.data.view_as(pred))).cpu().numpy())\n",
    "        total += image.size(0)\n",
    "        prediction_array.append(pred)\n",
    "        label_array.append(label)\n",
    "    print (\"Testing for {} Dataset\".format(dataset_type))\n",
    "    print('Test Loss: {:.6f}\\n'.format(test_loss))\n",
    "\n",
    "    print('\\nTest Accuracy: %2d%% (%2d/%2d)' % (\n",
    "        100. * correct / total, correct, total))\n",
    "    return prediction_array, label_array"
   ]
  },
  {
   "cell_type": "code",
   "execution_count": 66,
   "metadata": {},
   "outputs": [
    {
     "name": "stdout",
     "output_type": "stream",
     "text": [
      "Testing for test Dataset\n",
      "Test Loss: -11604804.000000\n",
      "\n",
      "\n",
      "Test Accuracy: 73% (7338/10000)\n"
     ]
    }
   ],
   "source": [
    "pred_array, label_array = test_model(loaders, model, criterion, use_cuda, 'test')"
   ]
  },
  {
   "cell_type": "code",
   "execution_count": 67,
   "metadata": {},
   "outputs": [
    {
     "name": "stdout",
     "output_type": "stream",
     "text": [
      "Testing for train Dataset\n",
      "Test Loss: -11675076.000000\n",
      "\n",
      "\n",
      "Test Accuracy: 76% (45902/60000)\n"
     ]
    }
   ],
   "source": [
    "train_pred, train_lab = test_model(loaders, model, criterion, use_cuda, 'train')"
   ]
  },
  {
   "cell_type": "code",
   "execution_count": 68,
   "metadata": {},
   "outputs": [],
   "source": [
    "from itertools import chain \n",
    "predictions = [pred_array[i].tolist() for i in range(len(pred_array))]\n",
    "labels = [label_array[i].tolist() for i in range(len(label_array))]\n",
    "predictions = list(chain.from_iterable(predictions))\n",
    "labels = list(chain.from_iterable(labels))"
   ]
  },
  {
   "cell_type": "markdown",
   "metadata": {},
   "source": [
    "**Confusion Matrix**"
   ]
  },
  {
   "cell_type": "code",
   "execution_count": 69,
   "metadata": {},
   "outputs": [
    {
     "data": {
      "text/plain": [
       "array([[  2,   0,   7,   2,   0,   0, 985,   0,   4,   0],\n",
       "       [  0, 985,   1,   6,   0,   0,   8,   0,   0,   0],\n",
       "       [  0,   0, 799,   0,  10,   0, 190,   0,   1,   0],\n",
       "       [  3,  11,   2, 805,   1,   0, 178,   0,   0,   0],\n",
       "       [  0,   1,  64,   4,   8,   0, 923,   0,   0,   0],\n",
       "       [  0,   0,   0,   0,   0, 929,  18,  33,   0,  20],\n",
       "       [  1,   1,  63,   5,   1,   0, 926,   0,   3,   0],\n",
       "       [  0,   0,   0,   0,   0,   4,  10, 959,   0,  27],\n",
       "       [  0,   0,   1,   0,   0,   0,  33,   2, 964,   0],\n",
       "       [  0,   0,   0,   0,   0,   4,   8,  27,   0, 961]], dtype=int64)"
      ]
     },
     "execution_count": 69,
     "metadata": {},
     "output_type": "execute_result"
    }
   ],
   "source": [
    "import sklearn.metrics as metrics\n",
    "\n",
    "confusion_matrix(labels, predictions)"
   ]
  },
  {
   "cell_type": "markdown",
   "metadata": {},
   "source": [
    "**Classification Report**"
   ]
  },
  {
   "cell_type": "code",
   "execution_count": 70,
   "metadata": {},
   "outputs": [
    {
     "name": "stdout",
     "output_type": "stream",
     "text": [
      "Classification report for Fasion MNIST Classification :\n",
      "              precision    recall  f1-score   support\n",
      "\n",
      "           0       0.33      0.00      0.00      1000\n",
      "           1       0.99      0.98      0.99      1000\n",
      "           2       0.85      0.80      0.82      1000\n",
      "           3       0.98      0.81      0.88      1000\n",
      "           4       0.40      0.01      0.02      1000\n",
      "           5       0.99      0.93      0.96      1000\n",
      "           6       0.28      0.93      0.43      1000\n",
      "           7       0.94      0.96      0.95      1000\n",
      "           8       0.99      0.96      0.98      1000\n",
      "           9       0.95      0.96      0.96      1000\n",
      "\n",
      "    accuracy                           0.73     10000\n",
      "   macro avg       0.77      0.73      0.70     10000\n",
      "weighted avg       0.77      0.73      0.70     10000\n",
      "\n",
      "\n"
     ]
    }
   ],
   "source": [
    "print(\"Classification report for Fasion MNIST Classification :\\n%s\\n\"\n",
    "      % (metrics.classification_report(labels, predictions)))"
   ]
  }
 ],
 "metadata": {
  "kernelspec": {
   "display_name": "Python 3",
   "language": "python",
   "name": "python3"
  },
  "language_info": {
   "codemirror_mode": {
    "name": "ipython",
    "version": 3
   },
   "file_extension": ".py",
   "mimetype": "text/x-python",
   "name": "python",
   "nbconvert_exporter": "python",
   "pygments_lexer": "ipython3",
   "version": "3.8.8"
  }
 },
 "nbformat": 4,
 "nbformat_minor": 4
}
